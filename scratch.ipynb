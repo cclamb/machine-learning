{
 "cells": [
  {
   "cell_type": "code",
   "execution_count": 3,
   "metadata": {
    "collapsed": false
   },
   "outputs": [
    {
     "name": "stdout",
     "output_type": "stream",
     "text": [
      "Collecting pandas\n",
      "  Downloading pandas-0.19.2-cp27-cp27m-macosx_10_6_intel.macosx_10_9_intel.macosx_10_9_x86_64.macosx_10_10_intel.macosx_10_10_x86_64.whl (11.9MB)\n",
      "\u001b[K    100% |████████████████████████████████| 11.9MB 74kB/s eta 0:00:01\n",
      "\u001b[?25hRequirement already satisfied: numpy>=1.7.0 in /Users/cclamb/.virtualenvs/keras/lib/python2.7/site-packages (from pandas)\n",
      "Collecting python-dateutil (from pandas)\n",
      "  Downloading python_dateutil-2.6.0-py2.py3-none-any.whl (194kB)\n",
      "\u001b[K    100% |████████████████████████████████| 194kB 191kB/s ta 0:00:01\n",
      "\u001b[?25hRequirement already satisfied: pytz>=2011k in /Users/cclamb/.virtualenvs/keras/lib/python2.7/site-packages (from pandas)\n",
      "Requirement already satisfied: six>=1.5 in /Users/cclamb/.virtualenvs/keras/lib/python2.7/site-packages (from python-dateutil->pandas)\n",
      "Installing collected packages: python-dateutil, pandas\n",
      "Successfully installed pandas-0.19.2 python-dateutil-2.6.0\n"
     ]
    }
   ],
   "source": [
    "!pip install pandas"
   ]
  },
  {
   "cell_type": "code",
   "execution_count": 4,
   "metadata": {
    "collapsed": false,
    "deletable": true,
    "editable": true
   },
   "outputs": [
    {
     "data": {
      "text/html": [
       "<div>\n",
       "<table border=\"1\" class=\"dataframe\">\n",
       "  <thead>\n",
       "    <tr style=\"text-align: right;\">\n",
       "      <th></th>\n",
       "      <th>\"_line0, x; _line1, x; _line3, x\"</th>\n",
       "      <th>\"_line0, y\"</th>\n",
       "      <th>\"_line1, y\"</th>\n",
       "      <th>\"_line2, x\"</th>\n",
       "      <th>\"_line2, y\"</th>\n",
       "      <th>\"_line3, y\"</th>\n",
       "    </tr>\n",
       "  </thead>\n",
       "  <tbody>\n",
       "    <tr>\n",
       "      <th>count</th>\n",
       "      <td>200.000000</td>\n",
       "      <td>200.000000</td>\n",
       "      <td>2.000000e+02</td>\n",
       "      <td>20.000000</td>\n",
       "      <td>20.000000</td>\n",
       "      <td>2.000000e+02</td>\n",
       "    </tr>\n",
       "    <tr>\n",
       "      <th>mean</th>\n",
       "      <td>0.995000</td>\n",
       "      <td>0.434498</td>\n",
       "      <td>-1.665335e-18</td>\n",
       "      <td>0.950000</td>\n",
       "      <td>0.620175</td>\n",
       "      <td>6.708533e-02</td>\n",
       "    </tr>\n",
       "    <tr>\n",
       "      <th>std</th>\n",
       "      <td>0.578792</td>\n",
       "      <td>0.243705</td>\n",
       "      <td>7.088812e-01</td>\n",
       "      <td>0.591608</td>\n",
       "      <td>0.324605</td>\n",
       "      <td>3.402314e-01</td>\n",
       "    </tr>\n",
       "    <tr>\n",
       "      <th>min</th>\n",
       "      <td>0.000000</td>\n",
       "      <td>0.136695</td>\n",
       "      <td>-1.000000e+00</td>\n",
       "      <td>0.000000</td>\n",
       "      <td>0.000000</td>\n",
       "      <td>-4.781305e-01</td>\n",
       "    </tr>\n",
       "    <tr>\n",
       "      <th>25%</th>\n",
       "      <td>0.497500</td>\n",
       "      <td>0.224812</td>\n",
       "      <td>-6.956525e-01</td>\n",
       "      <td>0.475000</td>\n",
       "      <td>0.388217</td>\n",
       "      <td>-1.651344e-01</td>\n",
       "    </tr>\n",
       "    <tr>\n",
       "      <th>50%</th>\n",
       "      <td>0.995000</td>\n",
       "      <td>0.369728</td>\n",
       "      <td>6.123234e-17</td>\n",
       "      <td>0.950000</td>\n",
       "      <td>0.667501</td>\n",
       "      <td>3.713929e-17</td>\n",
       "    </tr>\n",
       "    <tr>\n",
       "      <th>75%</th>\n",
       "      <td>1.492500</td>\n",
       "      <td>0.608055</td>\n",
       "      <td>6.956525e-01</td>\n",
       "      <td>1.425000</td>\n",
       "      <td>0.885674</td>\n",
       "      <td>2.722606e-01</td>\n",
       "    </tr>\n",
       "    <tr>\n",
       "      <th>max</th>\n",
       "      <td>1.990000</td>\n",
       "      <td>1.000000</td>\n",
       "      <td>1.000000e+00</td>\n",
       "      <td>1.900000</td>\n",
       "      <td>1.064711</td>\n",
       "      <td>7.883040e-01</td>\n",
       "    </tr>\n",
       "  </tbody>\n",
       "</table>\n",
       "</div>"
      ],
      "text/plain": [
       "       \"_line0, x; _line1, x; _line3, x\"  \"_line0, y\"   \"_line1, y\"  \\\n",
       "count                         200.000000   200.000000  2.000000e+02   \n",
       "mean                            0.995000     0.434498 -1.665335e-18   \n",
       "std                             0.578792     0.243705  7.088812e-01   \n",
       "min                             0.000000     0.136695 -1.000000e+00   \n",
       "25%                             0.497500     0.224812 -6.956525e-01   \n",
       "50%                             0.995000     0.369728  6.123234e-17   \n",
       "75%                             1.492500     0.608055  6.956525e-01   \n",
       "max                             1.990000     1.000000  1.000000e+00   \n",
       "\n",
       "       \"_line2, x\"  \"_line2, y\"   \"_line3, y\"  \n",
       "count    20.000000    20.000000  2.000000e+02  \n",
       "mean      0.950000     0.620175  6.708533e-02  \n",
       "std       0.591608     0.324605  3.402314e-01  \n",
       "min       0.000000     0.000000 -4.781305e-01  \n",
       "25%       0.475000     0.388217 -1.651344e-01  \n",
       "50%       0.950000     0.667501  3.713929e-17  \n",
       "75%       1.425000     0.885674  2.722606e-01  \n",
       "max       1.900000     1.064711  7.883040e-01  "
      ]
     },
     "execution_count": 4,
     "metadata": {},
     "output_type": "execute_result"
    }
   ],
   "source": [
    "import numpy as n\n",
    "import sklearn.datasets as ds\n",
    "\n",
    "import pandas as pd\n",
    "\n",
    "df = pd.read_csv(\"https://plot.ly/~MattSundquist/20387.csv\")\n",
    "df.describe()\n"
   ]
  }
 ],
 "metadata": {
  "kernelspec": {
   "display_name": "Python 2",
   "language": "python",
   "name": "python2"
  },
  "language_info": {
   "codemirror_mode": {
    "name": "ipython",
    "version": 2
   },
   "file_extension": ".py",
   "mimetype": "text/x-python",
   "name": "python",
   "nbconvert_exporter": "python",
   "pygments_lexer": "ipython2",
   "version": "2.7.13"
  }
 },
 "nbformat": 4,
 "nbformat_minor": 2
}
