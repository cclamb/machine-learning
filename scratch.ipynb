{
 "cells": [
  {
   "cell_type": "code",
   "execution_count": 18,
   "metadata": {
    "collapsed": false
   },
   "outputs": [
    {
     "name": "stdout",
     "output_type": "stream",
     "text": [
      "x: \n",
      "[[1 2]\n",
      " [3 4]\n",
      " [5 6]\n",
      " [7 8]]\n",
      "t:  [[5 6]]\n",
      "shapes: (4, 2) (1, 2)\n",
      "[[17 39 61 83]]\n"
     ]
    }
   ],
   "source": [
    "import numpy as n\n",
    "\n",
    "x = n.matrix(((1, 2), (3, 4), (5, 6), (7, 8)))\n",
    "t = n.matrix((5, 6))\n",
    "print \"x: \"\n",
    "print x\n",
    "print \"t: \", t\n",
    "print \"shapes:\", x.shape, t.shape \n",
    "y = t * x.transpose()\n",
    "print y\n",
    "\n"
   ]
  }
 ],
 "metadata": {
  "kernelspec": {
   "display_name": "Python 2",
   "language": "python",
   "name": "python2"
  },
  "language_info": {
   "codemirror_mode": {
    "name": "ipython",
    "version": 2
   },
   "file_extension": ".py",
   "mimetype": "text/x-python",
   "name": "python",
   "nbconvert_exporter": "python",
   "pygments_lexer": "ipython2",
   "version": "2.7.13"
  }
 },
 "nbformat": 4,
 "nbformat_minor": 2
}
